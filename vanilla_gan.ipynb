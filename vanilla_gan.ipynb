{
  "nbformat": 4,
  "nbformat_minor": 0,
  "metadata": {
    "colab": {
      "provenance": []
    },
    "kernelspec": {
      "name": "python3",
      "display_name": "Python 3"
    },
    "language_info": {
      "name": "python"
    },
    "accelerator": "GPU",
    "gpuClass": "standard"
  },
  "cells": [
    {
      "cell_type": "code",
      "execution_count": 1,
      "metadata": {
        "id": "R5vCHBMSSlNN"
      },
      "outputs": [],
      "source": [
        "import torch\n",
        "from torch.utils.data import Dataset\n",
        "from torchvision import datasets\n",
        "from torchvision.transforms import ToTensor\n",
        "import matplotlib.pyplot as plt\n",
        "import time\n",
        "import os\n",
        "import numpy as np"
      ]
    },
    {
      "cell_type": "code",
      "source": [
        "training_data=datasets.MNIST(root=\"dataset\",train=True,transform=ToTensor(),download=True)\n",
        "test_data=datasets.MNIST(root=\"dataset\",train=False,transform=ToTensor(),download=True)\n",
        "training_data= (training_data.data - 127.5) / 127.5 #normalize -1,1\n",
        "test_data= (test_data.data - 127.5) / 127.5 #normalize -1,1"
      ],
      "metadata": {
        "id": "MIOhhEx9h81t"
      },
      "execution_count": 2,
      "outputs": []
    },
    {
      "cell_type": "code",
      "source": [
        "from torch.utils.data import DataLoader"
      ],
      "metadata": {
        "id": "xIlvef7UiP5m"
      },
      "execution_count": 3,
      "outputs": []
    },
    {
      "cell_type": "code",
      "source": [
        "train=DataLoader(dataset=training_data,batch_size=32,shuffle=True)\n",
        "test=DataLoader(dataset=test_data,batch_size=32,shuffle=True)\n"
      ],
      "metadata": {
        "id": "Hi7WtHWeiDm8"
      },
      "execution_count": 4,
      "outputs": []
    },
    {
      "cell_type": "code",
      "source": [
        "for x in train:\n",
        "  print(x.shape)\n",
        "  image=x[0]\n",
        "  i=x[0].tolist()\n",
        "  image=image.reshape((28,28))\n",
        "  plt.imshow(image)\n",
        "  plt.show()\n",
        "  break"
      ],
      "metadata": {
        "colab": {
          "base_uri": "https://localhost:8080/",
          "height": 283
        },
        "id": "rZ0mLreyiLM5",
        "outputId": "2af17cca-6119-4617-abb8-0acdf4f97717"
      },
      "execution_count": 5,
      "outputs": [
        {
          "output_type": "stream",
          "name": "stdout",
          "text": [
            "torch.Size([32, 28, 28])\n"
          ]
        },
        {
          "output_type": "display_data",
          "data": {
            "text/plain": [
              "<Figure size 432x288 with 1 Axes>"
            ],
            "image/png": "[encoded data removed]"
          },
          "metadata": {
            "needs_background": "light"
          }
        }
      ]
    },
    {
      "cell_type": "code",
      "source": [
        "train"
      ],
      "metadata": {
        "colab": {
          "base_uri": "https://localhost:8080/"
        },
        "id": "Ur7lidUCkSfy",
        "outputId": "28917c9a-3b0f-4b79-e30f-245768eae8f7"
      },
      "execution_count": 6,
      "outputs": [
        {
          "output_type": "execute_result",
          "data": {
            "text/plain": [
              "<torch.utils.data.dataloader.DataLoader at 0x7f3c715f3ee0>"
            ]
          },
          "metadata": {},
          "execution_count": 6
        }
      ]
    },
    {
      "cell_type": "code",
      "source": [
        "import os\n",
        "import torch\n",
        "from torch import nn\n",
        "from torch.utils.data import DataLoader\n",
        "from torchvision import datasets, transforms"
      ],
      "metadata": {
        "id": "3AdldnhtiS5s"
      },
      "execution_count": 7,
      "outputs": []
    },
    {
      "cell_type": "code",
      "source": [
        "device='cpu'\n",
        "if torch.cuda.is_available():\n",
        "  device='cuda'"
      ],
      "metadata": {
        "id": "qv3pGQ6XimgC"
      },
      "execution_count": 8,
      "outputs": []
    },
    {
      "cell_type": "code",
      "source": [
        "device"
      ],
      "metadata": {
        "colab": {
          "base_uri": "https://localhost:8080/",
          "height": 36
        },
        "id": "wdl4lP_jioLE",
        "outputId": "7cddca3c-e8c6-4913-85c0-9f32bc6df0e4"
      },
      "execution_count": 9,
      "outputs": [
        {
          "output_type": "execute_result",
          "data": {
            "text/plain": [
              "'cuda'"
            ],
            "application/vnd.google.colaboratory.intrinsic+json": {
              "type": "string"
            }
          },
          "metadata": {},
          "execution_count": 9
        }
      ]
    },
    {
      "cell_type": "code",
      "source": [
        "class Generator(nn.Module):\n",
        "    def __init__(self):\n",
        "        super(Generator,self).__init__()\n",
        "        self.layer1=nn.Linear(100,128)\n",
        "        self.batch_norm1=nn.BatchNorm1d(128)\n",
        "        self.act1=nn.LeakyReLU()\n",
        "\n",
        "        self.layer2=nn.Linear(128,256)\n",
        "        self.batch_norm2=nn.BatchNorm1d(256)\n",
        "        self.act2=nn.LeakyReLU()\n",
        "\n",
        "        self.layer3=nn.Linear(256,512)\n",
        "        self.batch_norm3=nn.BatchNorm1d(512)\n",
        "        self.act3=nn.LeakyReLU()\n",
        "\n",
        "        self.layer4=nn.Linear(512,28*28)\n",
        "        self.act4=nn.Tanh()\n",
        "    def forward(self,input):\n",
        "        res=self.layer1(input)\n",
        "        res=self.batch_norm1(res)\n",
        "        res=self.act1(res)\n",
        "        res=self.layer2(res)\n",
        "        res=self.batch_norm2(res)\n",
        "        res=self.act2(res)\n",
        "        res=self.layer3(res)\n",
        "        res=self.batch_norm3(res)\n",
        "        res=self.act3(res)\n",
        "\n",
        "        res=self.layer4(res)\n",
        "        res=self.act4(res)\n",
        "\n",
        "        return res"
      ],
      "metadata": {
        "id": "__HnD8Q4io7H"
      },
      "execution_count": 10,
      "outputs": []
    },
    {
      "cell_type": "code",
      "source": [
        "class Discriminator(nn.Module):\n",
        "    def __init__(self):\n",
        "        super(Discriminator,self).__init__()\n",
        "\n",
        "        self.layer1=nn.Linear(28*28,512)\n",
        "        self.act1=nn.LeakyReLU()\n",
        "        \n",
        "        self.layer2=nn.Linear(512,256)\n",
        "        self.act2=nn.LeakyReLU()\n",
        "        self.drop1=nn.Dropout(0.3)\n",
        "\n",
        "        self.layer3=nn.Linear(256,128)\n",
        "        self.act3=nn.LeakyReLU()\n",
        "        self.drop2=nn.Dropout(0.3)\n",
        "\n",
        "        self.layer4=nn.Linear(128,1)\n",
        "\n",
        "    def forward(self, input):\n",
        "        res=self.layer1(input)\n",
        "        res=self.act1(res)\n",
        "\n",
        "        res=self.layer2(res)\n",
        "        res=self.act2(res)\n",
        "        res=self.drop1(res)\n",
        "\n",
        "        res=self.layer3(res)\n",
        "        res=self.act3(res)\n",
        "        res=self.drop2(res)\n",
        "        \n",
        "        res=self.layer4(res)\n",
        "\n",
        "        return res"
      ],
      "metadata": {
        "id": "nk1mJtpsr40g"
      },
      "execution_count": 11,
      "outputs": []
    },
    {
      "cell_type": "code",
      "source": [],
      "metadata": {
        "id": "gcKXJt5AVT9P"
      },
      "execution_count": 11,
      "outputs": []
    },
    {
      "cell_type": "code",
      "source": [
        "from torch.nn.functional import binary_cross_entropy_with_logits\n",
        "def discriminator_loss(real_output,fake_output):\n",
        "    real_loss=torch.mean(nn.functional.binary_cross_entropy_with_logits(real_output,torch.ones_like(real_output)))\n",
        "    fake_loss=torch.mean(nn.functional.binary_cross_entropy_with_logits(fake_output,torch.zeros_like(fake_output)))\n",
        "    return real_loss+fake_loss"
      ],
      "metadata": {
        "id": "1tEd2GS563IY"
      },
      "execution_count": 12,
      "outputs": []
    },
    {
      "cell_type": "code",
      "source": [
        "def generator_loss(fake_output):\n",
        "    gen_loss=nn.functional.binary_cross_entropy_with_logits(fake_output,torch.ones_like(fake_output))\n",
        "    return torch.mean(gen_loss)"
      ],
      "metadata": {
        "id": "0FDiUQrYAMJE"
      },
      "execution_count": 13,
      "outputs": []
    },
    {
      "cell_type": "code",
      "source": [
        "class VanillaGAN:\n",
        "    def __init__(self):\n",
        "        self.generator=Generator().to(device)\n",
        "        self.discriminator=Discriminator().to(device)\n",
        "\n",
        "        self.write_dir=\"./images\"\n",
        "        #self.checkpoints_dir=\"./checkpoints\"\n",
        "\n",
        "        self.gen_opt=torch.optim.Adam(params=self.generator.parameters(),lr=1e-4)\n",
        "        self.dis_opt=torch.optim.Adam(params=self.discriminator.parameters(),lr=1e-4)\n",
        "\n",
        "    def train_dis(self,images):\n",
        "        noise=torch.rand((32,100)).to(device)\n",
        "        images=images.to(device)\n",
        "        generated_images=self.generator(noise)\n",
        "\n",
        "        real_output=self.discriminator(images)\n",
        "        fake_output=self.discriminator(generated_images)\n",
        "\n",
        "        loss=discriminator_loss(real_output,fake_output)\n",
        "        self.dis_opt.zero_grad()\n",
        "        loss.backward()\n",
        "        self.dis_opt.step()\n",
        "\n",
        "            \n",
        "        return loss\n",
        "\n",
        "    def train_gan(self):\n",
        "        noise=torch.rand((32,100)).to(device)\n",
        "        \n",
        "        generated_images=self.generator(noise)\n",
        "\n",
        "        fake_output=self.discriminator(generated_images)\n",
        "\n",
        "        loss=generator_loss(fake_output)\n",
        "        self.gen_opt.zero_grad()\n",
        "        loss.backward()\n",
        "        self.gen_opt.step()   \n",
        "\n",
        "        return loss\n",
        "\n",
        "    def train(self):\n",
        "        if not os.path.exists(self.write_dir):\n",
        "            os.mkdir(self.write_dir)\n",
        "\n",
        "        for epoch in range(50):\n",
        "            start=time.time()\n",
        "\n",
        "            for batch ,(x) in enumerate(train):\n",
        "                x = x.reshape((32,28*28))\n",
        "                d_loss=self.train_dis(x)\n",
        "                \n",
        "                if batch%2==0:\n",
        "                    g_loss=self.train_gan()\n",
        "\n",
        "            print(f'E: {epoch + 1}, G: {g_loss}, D: {d_loss}, T: {time.time() - start}')\n",
        "        self.save()\n",
        "\n",
        "    def save(self):\n",
        "        r, c = 2, 5\n",
        "        noise = torch.rand([r * c, 100]).to(device)\n",
        "\n",
        "        generated_images = self.generator(noise)\n",
        "        generated_images = 0.5 * generated_images + 0.5\n",
        "        cnt=0\n",
        "        for x in generated_images:\n",
        "            fig=torch.reshape(x,(28,28)).cpu().tolist()\n",
        "            with open(os.path.join(self.write_dir, str(cnt)+\".json\"),'w') as handle:\n",
        "                json.dump(fig,handle)\n",
        "            cnt+=1\n",
        "\n",
        "\n",
        "        print('Saved...')\n"
      ],
      "metadata": {
        "id": "U8bp7oL4_rTL"
      },
      "execution_count": 14,
      "outputs": []
    },
    {
      "cell_type": "code",
      "source": [
        "gan=VanillaGAN()\n"
      ],
      "metadata": {
        "id": "PjO5HfmbRSV-"
      },
      "execution_count": 15,
      "outputs": []
    },
    {
      "cell_type": "code",
      "source": [
        "import json\n",
        "gan.train()"
      ],
      "metadata": {
        "colab": {
          "base_uri": "https://localhost:8080/"
        },
        "id": "0hyjLqIMSHHf",
        "outputId": "d969c01d-6868-44b0-9828-66eea880b96e"
      },
      "execution_count": 16,
      "outputs": [
        {
          "output_type": "stream",
          "name": "stdout",
          "text": [
            "E: 1, G: 4.058004379272461, D: 0.1266082376241684, T: 20.13530421257019\n",
            "E: 2, G: 6.941154479980469, D: 0.028791336342692375, T: 12.70083498954773\n",
            "E: 3, G: 6.814463138580322, D: 0.15854276716709137, T: 12.71111011505127\n",
            "E: 4, G: 4.911128997802734, D: 0.0264425165951252, T: 13.302829504013062\n",
            "E: 5, G: 3.8377532958984375, D: 0.12623459100723267, T: 12.74494457244873\n",
            "E: 6, G: 3.4952054023742676, D: 0.262398898601532, T: 12.687777042388916\n",
            "E: 7, G: 2.613692283630371, D: 0.18906813859939575, T: 12.931857585906982\n",
            "E: 8, G: 3.5479302406311035, D: 0.29697126150131226, T: 13.566110134124756\n",
            "E: 9, G: 3.116835117340088, D: 0.334770143032074, T: 12.820598363876343\n",
            "E: 10, G: 2.729870080947876, D: 0.3559652268886566, T: 12.678114891052246\n",
            "E: 11, G: 4.944236755371094, D: 0.2901512086391449, T: 12.691380023956299\n",
            "E: 12, G: 2.2080254554748535, D: 0.4118938446044922, T: 12.734567880630493\n",
            "E: 13, G: 2.104031562805176, D: 0.4279175400733948, T: 18.7630877494812\n",
            "E: 14, G: 2.422074794769287, D: 0.4123426675796509, T: 12.669252872467041\n",
            "E: 15, G: 1.8700382709503174, D: 0.6099720001220703, T: 12.744268417358398\n",
            "E: 16, G: 1.9221129417419434, D: 0.35940420627593994, T: 12.720764636993408\n",
            "E: 17, G: 2.7364211082458496, D: 0.27621325850486755, T: 12.75637412071228\n",
            "E: 18, G: 2.2161951065063477, D: 0.5845445990562439, T: 13.193064212799072\n",
            "E: 19, G: 2.2787928581237793, D: 0.6916850209236145, T: 12.65515947341919\n",
            "E: 20, G: 2.019282817840576, D: 0.5216173529624939, T: 12.52736496925354\n",
            "E: 21, G: 1.8423502445220947, D: 0.4050688147544861, T: 12.5841543674469\n",
            "E: 22, G: 1.990234613418579, D: 0.6079230308532715, T: 12.496689558029175\n",
            "E: 23, G: 1.7780479192733765, D: 0.3737202286720276, T: 12.654817342758179\n",
            "E: 24, G: 3.487372398376465, D: 0.2926005423069, T: 12.677305459976196\n",
            "E: 25, G: 2.115241527557373, D: 0.9287676215171814, T: 12.586210250854492\n",
            "E: 26, G: 1.8998826742172241, D: 0.6743112206459045, T: 12.941275358200073\n",
            "E: 27, G: 1.9840350151062012, D: 0.39050430059432983, T: 12.71544075012207\n",
            "E: 28, G: 3.0550403594970703, D: 0.5208041667938232, T: 12.758267402648926\n",
            "E: 29, G: 2.4887256622314453, D: 0.6031622886657715, T: 12.66231656074524\n",
            "E: 30, G: 1.8200918436050415, D: 0.49258455634117126, T: 12.632730722427368\n",
            "E: 31, G: 1.9274321794509888, D: 0.48669514060020447, T: 12.636019229888916\n",
            "E: 32, G: 1.8378758430480957, D: 0.8661529421806335, T: 12.582065343856812\n",
            "E: 33, G: 2.491729259490967, D: 0.46265387535095215, T: 12.735349178314209\n",
            "E: 34, G: 2.0105128288269043, D: 0.5839941501617432, T: 12.55980134010315\n",
            "E: 35, G: 2.083798885345459, D: 0.5354291200637817, T: 12.300277471542358\n",
            "E: 36, G: 1.9061139822006226, D: 0.6205129623413086, T: 12.524106502532959\n",
            "E: 37, G: 2.696206569671631, D: 0.4861575961112976, T: 12.613372325897217\n",
            "E: 38, G: 2.1215310096740723, D: 0.6953085660934448, T: 12.601677894592285\n",
            "E: 39, G: 1.5559396743774414, D: 0.39732593297958374, T: 12.456859111785889\n",
            "E: 40, G: 2.146716833114624, D: 0.5619396567344666, T: 12.42353081703186\n",
            "E: 41, G: 1.9297411441802979, D: 0.7478189468383789, T: 12.54801082611084\n",
            "E: 42, G: 2.219560384750366, D: 0.6220947504043579, T: 12.491536855697632\n",
            "E: 43, G: 1.5095975399017334, D: 0.5673569440841675, T: 12.510208129882812\n",
            "E: 44, G: 2.427790403366089, D: 0.3500482141971588, T: 12.390938997268677\n",
            "E: 45, G: 2.0624499320983887, D: 0.5366121530532837, T: 12.435679197311401\n",
            "E: 46, G: 1.964475154876709, D: 0.5236674547195435, T: 12.58995008468628\n",
            "E: 47, G: 1.6029648780822754, D: 0.8974045515060425, T: 12.641214370727539\n",
            "E: 48, G: 1.9697502851486206, D: 0.5678701400756836, T: 12.67253828048706\n",
            "E: 49, G: 2.2468953132629395, D: 0.40762263536453247, T: 12.538262367248535\n",
            "E: 50, G: 2.655869722366333, D: 0.5049375295639038, T: 12.55063509941101\n",
            "Saved...\n"
          ]
        }
      ]
    },
    {
      "cell_type": "code",
      "source": [
        "r=2\n",
        "c=5\n",
        "figure=plt.figure(figsize=(5,5))\n",
        "cnt=1\n",
        "for x in os.listdir(\"images\"):\n",
        "    if x.endswith(\"json\"):\n",
        "       image=0\n",
        "       with open(\"images/\"+x,'r') as handle:\n",
        "            image=json.load(handle)\n",
        "       #image=np.asarray(image)\n",
        "       figure.add_subplot(c,r,cnt)\n",
        "       #print(x)\n",
        "       plt.title(x)\n",
        "       plt.axis(\"off\")\n",
        "       plt.imshow(image)\n",
        "       cnt+=1\n",
        "plt.show()"
      ],
      "metadata": {
        "colab": {
          "base_uri": "https://localhost:8080/",
          "height": 319
        },
        "id": "vK5pNlUBnJH0",
        "outputId": "2e150e21-dd77-4485-d1ee-dac938205b92"
      },
      "execution_count": 17,
      "outputs": [
        {
          "output_type": "display_data",
          "data": {
            "text/plain": [
              "<Figure size 360x360 with 10 Axes>"
            ],
            "image/png": "[encoded data removed]"
          },
          "metadata": {
            "needs_background": "light"
          }
        }
      ]
    },
    {
      "cell_type": "code",
      "source": [],
      "metadata": {
        "id": "l0v51OVWyQsa"
      },
      "execution_count": 17,
      "outputs": []
    }
  ]
}